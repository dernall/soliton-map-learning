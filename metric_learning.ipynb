{
 "cells": [
  {
   "cell_type": "code",
   "execution_count": 1,
   "metadata": {},
   "outputs": [
    {
     "name": "stderr",
     "output_type": "stream",
     "text": [
      "/home/olegnest/.local/lib/python3.11/site-packages/tqdm/auto.py:21: TqdmWarning: IProgress not found. Please update jupyter and ipywidgets. See https://ipywidgets.readthedocs.io/en/stable/user_install.html\n",
      "  from .autonotebook import tqdm as notebook_tqdm\n"
     ]
    }
   ],
   "source": [
    "from data.soliton_dataset import SolitonDataset\n",
    "from models.autoencoders import AutoencoderFC, AutoencoderConv1D, AutoencoderRNN\n",
    "from utils.utils import train_val_test_split\n",
    "\n",
    "import numpy as np\n",
    "import matplotlib.pyplot as plt\n",
    "import pandas as pd\n",
    "from sklearn.neighbors import KNeighborsClassifier\n",
    "from sklearn.metrics import accuracy_score as accuracy\n",
    "from sklearn.metrics import silhouette_score\n",
    "from sklearn.preprocessing import StandardScaler\n",
    "import torch\n",
    "import torch.nn as nn\n",
    "from torch.nn import functional as F\n",
    "from torch.utils.data import DataLoader\n",
    "from tqdm import tqdm"
   ]
  },
  {
   "cell_type": "code",
   "execution_count": 2,
   "metadata": {},
   "outputs": [],
   "source": [
    "SEED = 42\n",
    "np.random.seed(SEED)\n",
    "torch.manual_seed(SEED)\n",
    "\n",
    "device = torch.device(\"cuda\" if torch.cuda.is_available() else \"cpu\")"
   ]
  },
  {
   "cell_type": "code",
   "execution_count": 3,
   "metadata": {},
   "outputs": [
    {
     "data": {
      "text/html": [
       "<div>\n",
       "<style scoped>\n",
       "    .dataframe tbody tr th:only-of-type {\n",
       "        vertical-align: middle;\n",
       "    }\n",
       "\n",
       "    .dataframe tbody tr th {\n",
       "        vertical-align: top;\n",
       "    }\n",
       "\n",
       "    .dataframe thead th {\n",
       "        text-align: right;\n",
       "    }\n",
       "</style>\n",
       "<table border=\"1\" class=\"dataframe\">\n",
       "  <thead>\n",
       "    <tr style=\"text-align: right;\">\n",
       "      <th></th>\n",
       "      <th>1550.0</th>\n",
       "      <th>1549.8748798925087</th>\n",
       "      <th>1549.7497799834402</th>\n",
       "      <th>1549.624700267904</th>\n",
       "      <th>1549.4996407410108</th>\n",
       "      <th>1549.3746013978732</th>\n",
       "      <th>1549.2495822336057</th>\n",
       "      <th>1549.1245832433235</th>\n",
       "      <th>1548.999604422144</th>\n",
       "      <th>1548.8746457651862</th>\n",
       "      <th>...</th>\n",
       "      <th>1551.1269907041835</th>\n",
       "      <th>1551.0016885905482</th>\n",
       "      <th>1550.8764067194222</th>\n",
       "      <th>1550.751145085901</th>\n",
       "      <th>1550.6259036850813</th>\n",
       "      <th>1550.5006825120613</th>\n",
       "      <th>1550.375481561941</th>\n",
       "      <th>1550.2503008298215</th>\n",
       "      <th>1550.1251403108065</th>\n",
       "      <th>target</th>\n",
       "    </tr>\n",
       "  </thead>\n",
       "  <tbody>\n",
       "    <tr>\n",
       "      <th>0</th>\n",
       "      <td>25.646056</td>\n",
       "      <td>25.650028</td>\n",
       "      <td>25.639966</td>\n",
       "      <td>25.615890</td>\n",
       "      <td>25.577855</td>\n",
       "      <td>25.525948</td>\n",
       "      <td>25.460286</td>\n",
       "      <td>25.381017</td>\n",
       "      <td>25.288318</td>\n",
       "      <td>25.182399</td>\n",
       "      <td>...</td>\n",
       "      <td>24.990649</td>\n",
       "      <td>25.116764</td>\n",
       "      <td>25.230041</td>\n",
       "      <td>25.330229</td>\n",
       "      <td>25.417107</td>\n",
       "      <td>25.490478</td>\n",
       "      <td>25.550179</td>\n",
       "      <td>25.596074</td>\n",
       "      <td>25.628057</td>\n",
       "      <td>cons_one</td>\n",
       "    </tr>\n",
       "    <tr>\n",
       "      <th>1</th>\n",
       "      <td>106.806266</td>\n",
       "      <td>112.409808</td>\n",
       "      <td>424.880242</td>\n",
       "      <td>686.914489</td>\n",
       "      <td>1405.909674</td>\n",
       "      <td>32.762638</td>\n",
       "      <td>130.044831</td>\n",
       "      <td>625.502883</td>\n",
       "      <td>1410.410023</td>\n",
       "      <td>115.495991</td>\n",
       "      <td>...</td>\n",
       "      <td>325.588571</td>\n",
       "      <td>138.500308</td>\n",
       "      <td>80.540597</td>\n",
       "      <td>225.456932</td>\n",
       "      <td>649.640334</td>\n",
       "      <td>1.996701</td>\n",
       "      <td>229.406224</td>\n",
       "      <td>761.822174</td>\n",
       "      <td>213.996442</td>\n",
       "      <td>cons_many</td>\n",
       "    </tr>\n",
       "    <tr>\n",
       "      <th>2</th>\n",
       "      <td>66.742776</td>\n",
       "      <td>523.683413</td>\n",
       "      <td>317.596944</td>\n",
       "      <td>1046.224701</td>\n",
       "      <td>744.272499</td>\n",
       "      <td>250.673772</td>\n",
       "      <td>426.875556</td>\n",
       "      <td>270.139851</td>\n",
       "      <td>449.280882</td>\n",
       "      <td>289.328584</td>\n",
       "      <td>...</td>\n",
       "      <td>81.704307</td>\n",
       "      <td>349.552649</td>\n",
       "      <td>420.345688</td>\n",
       "      <td>186.359228</td>\n",
       "      <td>363.575276</td>\n",
       "      <td>56.096868</td>\n",
       "      <td>331.010606</td>\n",
       "      <td>199.400477</td>\n",
       "      <td>114.965091</td>\n",
       "      <td>cons_many</td>\n",
       "    </tr>\n",
       "    <tr>\n",
       "      <th>3</th>\n",
       "      <td>17.406022</td>\n",
       "      <td>17.368336</td>\n",
       "      <td>17.246741</td>\n",
       "      <td>17.043367</td>\n",
       "      <td>16.761907</td>\n",
       "      <td>16.407466</td>\n",
       "      <td>15.986371</td>\n",
       "      <td>15.505929</td>\n",
       "      <td>14.974164</td>\n",
       "      <td>14.399550</td>\n",
       "      <td>...</td>\n",
       "      <td>14.380802</td>\n",
       "      <td>14.948072</td>\n",
       "      <td>15.474983</td>\n",
       "      <td>15.953217</td>\n",
       "      <td>16.374769</td>\n",
       "      <td>16.732200</td>\n",
       "      <td>17.018902</td>\n",
       "      <td>17.229347</td>\n",
       "      <td>17.359305</td>\n",
       "      <td>cons_one</td>\n",
       "    </tr>\n",
       "    <tr>\n",
       "      <th>4</th>\n",
       "      <td>103.739823</td>\n",
       "      <td>103.581529</td>\n",
       "      <td>102.286535</td>\n",
       "      <td>99.899522</td>\n",
       "      <td>96.525690</td>\n",
       "      <td>92.330496</td>\n",
       "      <td>87.533321</td>\n",
       "      <td>82.394103</td>\n",
       "      <td>77.191973</td>\n",
       "      <td>72.194477</td>\n",
       "      <td>...</td>\n",
       "      <td>67.858970</td>\n",
       "      <td>73.340071</td>\n",
       "      <td>78.891431</td>\n",
       "      <td>84.296851</td>\n",
       "      <td>89.358338</td>\n",
       "      <td>93.893959</td>\n",
       "      <td>97.737289</td>\n",
       "      <td>100.739222</td>\n",
       "      <td>102.772649</td>\n",
       "      <td>cons_one</td>\n",
       "    </tr>\n",
       "  </tbody>\n",
       "</table>\n",
       "<p>5 rows × 2049 columns</p>\n",
       "</div>"
      ],
      "text/plain": [
       "       1550.0  1549.8748798925087  1549.7497799834402  1549.624700267904  \\\n",
       "0   25.646056           25.650028           25.639966          25.615890   \n",
       "1  106.806266          112.409808          424.880242         686.914489   \n",
       "2   66.742776          523.683413          317.596944        1046.224701   \n",
       "3   17.406022           17.368336           17.246741          17.043367   \n",
       "4  103.739823          103.581529          102.286535          99.899522   \n",
       "\n",
       "   1549.4996407410108  1549.3746013978732  1549.2495822336057  \\\n",
       "0           25.577855           25.525948           25.460286   \n",
       "1         1405.909674           32.762638          130.044831   \n",
       "2          744.272499          250.673772          426.875556   \n",
       "3           16.761907           16.407466           15.986371   \n",
       "4           96.525690           92.330496           87.533321   \n",
       "\n",
       "   1549.1245832433235  1548.999604422144  1548.8746457651862  ...  \\\n",
       "0           25.381017          25.288318           25.182399  ...   \n",
       "1          625.502883        1410.410023          115.495991  ...   \n",
       "2          270.139851         449.280882          289.328584  ...   \n",
       "3           15.505929          14.974164           14.399550  ...   \n",
       "4           82.394103          77.191973           72.194477  ...   \n",
       "\n",
       "   1551.1269907041835  1551.0016885905482  1550.8764067194222  \\\n",
       "0           24.990649           25.116764           25.230041   \n",
       "1          325.588571          138.500308           80.540597   \n",
       "2           81.704307          349.552649          420.345688   \n",
       "3           14.380802           14.948072           15.474983   \n",
       "4           67.858970           73.340071           78.891431   \n",
       "\n",
       "   1550.751145085901  1550.6259036850813  1550.5006825120613  \\\n",
       "0          25.330229           25.417107           25.490478   \n",
       "1         225.456932          649.640334            1.996701   \n",
       "2         186.359228          363.575276           56.096868   \n",
       "3          15.953217           16.374769           16.732200   \n",
       "4          84.296851           89.358338           93.893959   \n",
       "\n",
       "   1550.375481561941  1550.2503008298215  1550.1251403108065     target  \n",
       "0          25.550179           25.596074           25.628057   cons_one  \n",
       "1         229.406224          761.822174          213.996442  cons_many  \n",
       "2         331.010606          199.400477          114.965091  cons_many  \n",
       "3          17.018902           17.229347           17.359305   cons_one  \n",
       "4          97.737289          100.739222          102.772649   cons_one  \n",
       "\n",
       "[5 rows x 2049 columns]"
      ]
     },
     "execution_count": 3,
     "metadata": {},
     "output_type": "execute_result"
    }
   ],
   "source": [
    "df = pd.read_csv(\"df_soliton.csv\")\n",
    "df.head()"
   ]
  },
  {
   "cell_type": "code",
   "execution_count": 4,
   "metadata": {},
   "outputs": [],
   "source": [
    "float_columns = sorted(df.columns[:-1])\n",
    "cols = [\"target\"]\n",
    "for col in float_columns:\n",
    "    if 1520 < float(col) < 1580:\n",
    "        cols.append(col)\n",
    "df = df[cols]"
   ]
  },
  {
   "cell_type": "code",
   "execution_count": 5,
   "metadata": {},
   "outputs": [],
   "source": [
    "df_train, df_val, df_test = train_val_test_split(df, val_size=0.1, test_size=0.1, random_state=SEED)"
   ]
  },
  {
   "cell_type": "code",
   "execution_count": 6,
   "metadata": {},
   "outputs": [],
   "source": [
    "dim_int = df_train.shape[1] - 1\n",
    "\n",
    "model = AutoencoderFC(dim_code=dim_int)\n",
    "# model = AutoencoderConv1D(1)\n",
    "# model = AutoencoderRNN(dim_int, 1)"
   ]
  },
  {
   "cell_type": "code",
   "execution_count": 7,
   "metadata": {},
   "outputs": [],
   "source": [
    "if model.__class__.__name__ == \"AutoencoderRNN\":\n",
    "    batch_size = 1\n",
    "else:\n",
    "    batch_size = 32\n",
    "\n",
    "scaler = None\n",
    "# scaler = StandardScaler()\n",
    "\n",
    "spectra_train = SolitonDataset(df_train, train=True, scaler=scaler)\n",
    "spectra_val = SolitonDataset(df_val, scaler=scaler)\n",
    "spectra_test = SolitonDataset(df_test, scaler=scaler)\n",
    "\n",
    "train_dataloader = DataLoader(spectra_train,batch_size=batch_size, shuffle=True)\n",
    "val_dataloader = DataLoader(spectra_val, batch_size=batch_size)\n",
    "test_dataloader = DataLoader(spectra_test, batch_size=batch_size)\n",
    "\n",
    "dataloaders = {\"train\": train_dataloader, \"val\": val_dataloader, \"test\": test_dataloader}"
   ]
  },
  {
   "cell_type": "code",
   "execution_count": 8,
   "metadata": {},
   "outputs": [],
   "source": [
    "criterion = torch.nn.MSELoss()\n",
    "triplet = torch.nn.TripletMarginLoss()\n",
    "optimizer = torch.optim.Adamax(model.parameters(), lr=0.01)\n",
    "scheduler = torch.optim.lr_scheduler.StepLR(optimizer, step_size=1)"
   ]
  },
  {
   "cell_type": "code",
   "execution_count": 9,
   "metadata": {},
   "outputs": [],
   "source": [
    "from torch.nn import functional as F\n",
    "class AngularPenaltySMLoss(nn.Module):\n",
    "\n",
    "    def __init__(self, in_features, out_features, loss_type=\"arcface\", eps=1e-7, s=None, m=None):\n",
    "        super(AngularPenaltySMLoss, self).__init__()\n",
    "        assert loss_type in  [\"arcface\", \"sphereface\", \"cosface\"]\n",
    "        \n",
    "        if loss_type == \"arcface\":\n",
    "            self.s = 64.0 if not s else s\n",
    "            self.m = 0.5 if not m else m\n",
    "        if loss_type == \"sphereface\":\n",
    "            self.s = 64.0 if not s else s\n",
    "            self.m = 1.35 if not m else m\n",
    "        if loss_type == \"cosface\":\n",
    "            self.s = 30.0 if not s else s\n",
    "            self.m = 0.4 if not m else m\n",
    "        self.loss_type = loss_type\n",
    "        self.in_features = in_features\n",
    "        self.out_features = out_features\n",
    "        self.fc = nn.Linear(in_features, out_features, bias=False)\n",
    "        self.eps = eps\n",
    "\n",
    "    def forward(self, x, labels):\n",
    "\n",
    "        for W in self.fc.parameters():\n",
    "            W = F.normalize(W, p=2, dim=1)\n",
    "\n",
    "        x = F.normalize(x, p=2, dim=1)\n",
    "\n",
    "        wf = self.fc(x)\n",
    "        if self.loss_type == \"cosface\":\n",
    "            numerator = self.s * (torch.diagonal(wf.transpose(0, 1)[labels]) - self.m)\n",
    "        if self.loss_type == \"arcface\":\n",
    "            numerator = self.s * torch.cos(torch.acos(torch.clamp(torch.diagonal(wf.transpose(0, 1)[labels]), -1.+self.eps, 1-self.eps)) + self.m)\n",
    "        if self.loss_type == \"sphereface\":\n",
    "            numerator = self.s * torch.cos(self.m * torch.acos(torch.clamp(torch.diagonal(wf.transpose(0, 1)[labels]), -1.+self.eps, 1-self.eps)))\n",
    "\n",
    "        excl = torch.cat([torch.cat((wf[i, :y], wf[i, y+1:])).unsqueeze(0) for i, y in enumerate(labels)], dim=0)\n",
    "        denominator = torch.exp(numerator) + torch.sum(torch.exp(self.s * excl), dim=1)\n",
    "        L = numerator - torch.log(denominator)\n",
    "        return -torch.mean(L)"
   ]
  },
  {
   "cell_type": "code",
   "execution_count": 14,
   "metadata": {},
   "outputs": [],
   "source": [
    "def train(model, dataloaders, optimizer, critrerion, epochs=100, scheduler=None, device=torch.device(\"cpu\")):\n",
    "\n",
    "    clf = KNeighborsClassifier(n_neighbors=3)\n",
    "    model = model.to(device)\n",
    "    scores = {\n",
    "        \"mse_train\": [],\n",
    "        \"mse_val\": [],\n",
    "        \"arc_loss\": [],\n",
    "        \"accuracy_clf\": [],\n",
    "        \"silhoutte\": [],\n",
    "    }\n",
    "    arc = AngularPenaltySMLoss(2, 5, loss_type=\"arcface\", s=10).to(device)\n",
    "\n",
    "    for epoch in tqdm(range(epochs)):\n",
    "        train_mse_loss = []\n",
    "        train_arc_loss = []\n",
    "\n",
    "        val_mse_loss = []\n",
    "\n",
    "        arr_label_train = []\n",
    "        arr_emb_train = []\n",
    "\n",
    "        arr_label_val = []\n",
    "        arr_emb_val = []\n",
    "\n",
    "        model.train()\n",
    "        for anchor, _, _, anchor_label in dataloaders[\"train\"]:\n",
    "\n",
    "            anchor = anchor.to(device)\n",
    "            anchor_label = anchor_label.to(device)\n",
    "            optimizer.zero_grad()\n",
    "\n",
    "            anchor_rebuild, anchor_out = model(anchor)\n",
    "            loss_arc = arc(labels=anchor_label, x=anchor_out)\n",
    "\n",
    "            loss_mse = critrerion(anchor, anchor_rebuild)\n",
    "            loss = loss_arc + loss_mse * 0.001\n",
    "            loss.backward()\n",
    "            optimizer.step()\n",
    "\n",
    "            train_mse_loss.append(loss_mse.item())\n",
    "            train_arc_loss.append(loss_arc.cpu().detach().numpy())\n",
    "            arr_emb_train.append(anchor_out.cpu().detach().numpy())\n",
    "            arr_label_train.append(anchor_label.cpu().detach().numpy())\n",
    "\n",
    "        clf = KNeighborsClassifier(n_neighbors=3)\n",
    "        emb_train = np.array(arr_emb_train[:-1]).reshape(-1,2)\n",
    "        label_train = np.array(arr_label_train[:-1]).reshape(-1)\n",
    "        clf.fit(X=emb_train, y=label_train)\n",
    "\n",
    "        model.eval()\n",
    "        for anchor, _, _, anchor_label in dataloaders[\"val\"]:\n",
    "            anchor = anchor.to(device)\n",
    "            anchor_label = anchor_label.to(device)\n",
    "            anchor_rebuild, anchor_out = model(anchor)\n",
    "\n",
    "            loss_mse_val = critrerion(anchor, anchor_rebuild)\n",
    "            val_mse_loss.append(loss_mse_val.item())\n",
    "\n",
    "            arr_emb_val.append(anchor_out.cpu().detach().numpy())\n",
    "            arr_label_val.append(anchor_label.cpu().detach().numpy())\n",
    "\n",
    "        emb_test = np.array(arr_emb_val[:-1]).reshape(-1,2)\n",
    "        label_test = np.array(arr_label_val[:-1]).reshape(-1)\n",
    "        label_pred = clf.predict(X=emb_test)\n",
    "\n",
    "        acc = accuracy(label_test, label_pred)\n",
    "        silhoutte = silhouette_score(X=emb_test, labels=label_test)\n",
    "        scores[\"accuracy_clf\"].append(acc)\n",
    "        scores[\"silhoutte\"].append(silhoutte)\n",
    "        scores[\"mse_train\"].append(np.mean(train_mse_loss))\n",
    "        scores[\"mse_val\"].append(np.mean(val_mse_loss))\n",
    "        scores[\"arc_loss\"].append(np.mean(train_arc_loss))\n",
    "        if scheduler:\n",
    "            scheduler.step()\n",
    "\n",
    "        print(f\"Epoch #{epoch + 1}: MSE train: {np.mean(train_mse_loss)}, MSE val: {np.mean(val_mse_loss)}\\t Arc train: {np.mean(train_arc_loss)} \\t Val acc: {acc}\")\n",
    "\n",
    "    return model, scores\n"
   ]
  },
  {
   "cell_type": "code",
   "execution_count": 15,
   "metadata": {},
   "outputs": [
    {
     "name": "stderr",
     "output_type": "stream",
     "text": [
      "100%|██████████| 152/152 [00:09<00:00, 15.76it/s]\n",
      "  5%|▌         | 1/20 [00:09<03:09,  9.99s/it]"
     ]
    },
    {
     "name": "stdout",
     "output_type": "stream",
     "text": [
      "Epoch #1: MSE train: 2663.8293822439095, MSE val: 2510.238327923943\t Arc train: 6.023303985595703 \t Val acc: 0.541015625\n"
     ]
    },
    {
     "name": "stderr",
     "output_type": "stream",
     "text": [
      "100%|██████████| 152/152 [00:09<00:00, 15.87it/s]\n",
      " 10%|█         | 2/20 [00:19<02:59,  9.96s/it]"
     ]
    },
    {
     "name": "stdout",
     "output_type": "stream",
     "text": [
      "Epoch #2: MSE train: 2541.7088404203714, MSE val: 2283.9848022460938\t Arc train: 6.8853759765625 \t Val acc: 0.79296875\n"
     ]
    },
    {
     "name": "stderr",
     "output_type": "stream",
     "text": [
      "100%|██████████| 152/152 [00:10<00:00, 14.86it/s]\n",
      " 15%|█▌        | 3/20 [00:30<02:54, 10.24s/it]"
     ]
    },
    {
     "name": "stdout",
     "output_type": "stream",
     "text": [
      "Epoch #3: MSE train: 2458.5787729966014, MSE val: 2276.6540132410387\t Arc train: 6.896175861358643 \t Val acc: 0.83203125\n"
     ]
    },
    {
     "name": "stderr",
     "output_type": "stream",
     "text": [
      "100%|██████████| 152/152 [00:10<00:00, 14.78it/s]\n",
      " 20%|██        | 4/20 [00:41<02:46, 10.39s/it]"
     ]
    },
    {
     "name": "stdout",
     "output_type": "stream",
     "text": [
      "Epoch #4: MSE train: 2465.270955939042, MSE val: 2281.0289432301242\t Arc train: 6.8958048820495605 \t Val acc: 0.841796875\n"
     ]
    },
    {
     "name": "stderr",
     "output_type": "stream",
     "text": [
      "100%|██████████| 152/152 [00:10<00:00, 15.11it/s]\n",
      " 25%|██▌       | 5/20 [00:51<02:35, 10.40s/it]"
     ]
    },
    {
     "name": "stdout",
     "output_type": "stream",
     "text": [
      "Epoch #5: MSE train: 2473.3177542435496, MSE val: 2281.3644822064566\t Arc train: 6.8955979347229 \t Val acc: 0.814453125\n"
     ]
    },
    {
     "name": "stderr",
     "output_type": "stream",
     "text": [
      "100%|██████████| 152/152 [00:10<00:00, 15.03it/s]\n",
      " 30%|███       | 6/20 [01:01<02:25, 10.42s/it]"
     ]
    },
    {
     "name": "stdout",
     "output_type": "stream",
     "text": [
      "Epoch #6: MSE train: 2461.7162551879883, MSE val: 2281.356861787684\t Arc train: 6.894443035125732 \t Val acc: 0.814453125\n"
     ]
    },
    {
     "name": "stderr",
     "output_type": "stream",
     "text": [
      "100%|██████████| 152/152 [00:10<00:00, 15.15it/s]\n",
      " 35%|███▌      | 7/20 [01:12<02:15, 10.41s/it]"
     ]
    },
    {
     "name": "stdout",
     "output_type": "stream",
     "text": [
      "Epoch #7: MSE train: 2457.7590142300255, MSE val: 2281.3563106761258\t Arc train: 6.894505500793457 \t Val acc: 0.83984375\n"
     ]
    },
    {
     "name": "stderr",
     "output_type": "stream",
     "text": [
      "100%|██████████| 152/152 [00:09<00:00, 15.27it/s]\n",
      " 40%|████      | 8/20 [01:22<02:04, 10.38s/it]"
     ]
    },
    {
     "name": "stdout",
     "output_type": "stream",
     "text": [
      "Epoch #8: MSE train: 2456.9026039525083, MSE val: 2281.3562873391543\t Arc train: 6.894688606262207 \t Val acc: 0.833984375\n"
     ]
    },
    {
     "name": "stderr",
     "output_type": "stream",
     "text": [
      "100%|██████████| 152/152 [00:09<00:00, 15.62it/s]\n",
      " 45%|████▌     | 9/20 [01:32<01:53, 10.28s/it]"
     ]
    },
    {
     "name": "stdout",
     "output_type": "stream",
     "text": [
      "Epoch #9: MSE train: 2453.96069817794, MSE val: 2281.3562873391543\t Arc train: 6.895230770111084 \t Val acc: 0.82421875\n"
     ]
    },
    {
     "name": "stderr",
     "output_type": "stream",
     "text": [
      "100%|██████████| 152/152 [00:09<00:00, 15.79it/s]\n",
      " 50%|█████     | 10/20 [01:42<01:41, 10.19s/it]"
     ]
    },
    {
     "name": "stdout",
     "output_type": "stream",
     "text": [
      "Epoch #10: MSE train: 2465.281959734465, MSE val: 2281.3562873391543\t Arc train: 6.894773006439209 \t Val acc: 0.841796875\n"
     ]
    },
    {
     "name": "stderr",
     "output_type": "stream",
     "text": [
      "100%|██████████| 152/152 [00:09<00:00, 15.50it/s]\n",
      " 55%|█████▌    | 11/20 [01:52<01:31, 10.19s/it]"
     ]
    },
    {
     "name": "stdout",
     "output_type": "stream",
     "text": [
      "Epoch #11: MSE train: 2454.833035318475, MSE val: 2281.3562873391543\t Arc train: 6.8939208984375 \t Val acc: 0.873046875\n"
     ]
    },
    {
     "name": "stderr",
     "output_type": "stream",
     "text": [
      "100%|██████████| 152/152 [00:10<00:00, 14.64it/s]\n",
      " 60%|██████    | 12/20 [02:03<01:23, 10.38s/it]"
     ]
    },
    {
     "name": "stdout",
     "output_type": "stream",
     "text": [
      "Epoch #12: MSE train: 2453.943678805703, MSE val: 2281.3562873391543\t Arc train: 6.893509864807129 \t Val acc: 0.869140625\n"
     ]
    },
    {
     "name": "stderr",
     "output_type": "stream",
     "text": [
      "100%|██████████| 152/152 [00:11<00:00, 13.70it/s]\n",
      " 65%|██████▌   | 13/20 [02:15<01:15, 10.75s/it]"
     ]
    },
    {
     "name": "stdout",
     "output_type": "stream",
     "text": [
      "Epoch #13: MSE train: 2455.1753969694437, MSE val: 2281.3562873391543\t Arc train: 6.894449234008789 \t Val acc: 0.8515625\n"
     ]
    },
    {
     "name": "stderr",
     "output_type": "stream",
     "text": [
      "100%|██████████| 152/152 [00:11<00:00, 12.89it/s]\n",
      " 70%|███████   | 14/20 [02:27<01:07, 11.25s/it]"
     ]
    },
    {
     "name": "stdout",
     "output_type": "stream",
     "text": [
      "Epoch #14: MSE train: 2462.295725571482, MSE val: 2281.3562873391543\t Arc train: 6.894529819488525 \t Val acc: 0.845703125\n"
     ]
    },
    {
     "name": "stderr",
     "output_type": "stream",
     "text": [
      "100%|██████████| 152/152 [00:11<00:00, 12.81it/s]\n",
      " 75%|███████▌  | 15/20 [02:40<00:57, 11.58s/it]"
     ]
    },
    {
     "name": "stdout",
     "output_type": "stream",
     "text": [
      "Epoch #15: MSE train: 2462.2566662838585, MSE val: 2281.3562873391543\t Arc train: 6.894588947296143 \t Val acc: 0.83984375\n"
     ]
    },
    {
     "name": "stderr",
     "output_type": "stream",
     "text": [
      "100%|██████████| 152/152 [00:11<00:00, 13.66it/s]\n",
      " 80%|████████  | 16/20 [02:51<00:46, 11.57s/it]"
     ]
    },
    {
     "name": "stdout",
     "output_type": "stream",
     "text": [
      "Epoch #16: MSE train: 2458.179080561588, MSE val: 2281.3562873391543\t Arc train: 6.893558025360107 \t Val acc: 0.845703125\n"
     ]
    },
    {
     "name": "stderr",
     "output_type": "stream",
     "text": [
      "100%|██████████| 152/152 [00:11<00:00, 12.69it/s]\n",
      " 85%|████████▌ | 17/20 [03:04<00:35, 11.83s/it]"
     ]
    },
    {
     "name": "stdout",
     "output_type": "stream",
     "text": [
      "Epoch #17: MSE train: 2466.4186630249023, MSE val: 2281.3562873391543\t Arc train: 6.894855499267578 \t Val acc: 0.841796875\n"
     ]
    },
    {
     "name": "stderr",
     "output_type": "stream",
     "text": [
      "100%|██████████| 152/152 [00:11<00:00, 13.31it/s]\n",
      " 90%|█████████ | 18/20 [03:15<00:23, 11.84s/it]"
     ]
    },
    {
     "name": "stdout",
     "output_type": "stream",
     "text": [
      "Epoch #18: MSE train: 2462.347925688091, MSE val: 2281.3562873391543\t Arc train: 6.893703937530518 \t Val acc: 0.837890625\n"
     ]
    },
    {
     "name": "stderr",
     "output_type": "stream",
     "text": [
      "100%|██████████| 152/152 [00:11<00:00, 13.37it/s]\n",
      " 95%|█████████▌| 19/20 [03:27<00:11, 11.83s/it]"
     ]
    },
    {
     "name": "stdout",
     "output_type": "stream",
     "text": [
      "Epoch #19: MSE train: 2454.8620221991287, MSE val: 2281.3562873391543\t Arc train: 6.895021915435791 \t Val acc: 0.841796875\n"
     ]
    },
    {
     "name": "stderr",
     "output_type": "stream",
     "text": [
      "100%|██████████| 152/152 [00:11<00:00, 13.47it/s]\n",
      "100%|██████████| 20/20 [03:39<00:00, 10.97s/it]"
     ]
    },
    {
     "name": "stdout",
     "output_type": "stream",
     "text": [
      "Epoch #20: MSE train: 2462.8392247651755, MSE val: 2281.3562873391543\t Arc train: 6.894573211669922 \t Val acc: 0.845703125\n"
     ]
    },
    {
     "name": "stderr",
     "output_type": "stream",
     "text": [
      "\n"
     ]
    }
   ],
   "source": [
    "m_trained, scores = train(model, dataloaders, optimizer, criterion, 20, scheduler, device=device)"
   ]
  },
  {
   "cell_type": "code",
   "execution_count": 16,
   "metadata": {},
   "outputs": [
    {
     "name": "stderr",
     "output_type": "stream",
     "text": [
      "100%|██████████| 19/19 [00:00<00:00, 49.79it/s]\n"
     ]
    }
   ],
   "source": [
    "train_results = []\n",
    "labels = []\n",
    "\n",
    "model.eval()\n",
    "for img, _, _, label in tqdm(dataloaders[\"test\"]):\n",
    "    _, emb = model(img.to(device))\n",
    "    train_results.append(emb.detach().numpy())\n",
    "    labels.append(label)\n",
    "\n",
    "train_results = np.concatenate(train_results)\n",
    "labels = np.concatenate(labels)"
   ]
  },
  {
   "cell_type": "code",
   "execution_count": 17,
   "metadata": {},
   "outputs": [
    {
     "data": {
      "text/plain": [
       "Text(0.5, 1.0, 'Embeddings after encoding with Arc loss')"
      ]
     },
     "execution_count": 17,
     "metadata": {},
     "output_type": "execute_result"
    },
    {
     "data": {
      "image/png": "[encoded data removed]",
      "text/plain": [
       "<Figure size 1200x800 with 1 Axes>"
      ]
     },
     "metadata": {},
     "output_type": "display_data"
    }
   ],
   "source": [
    "plt.figure(figsize=(12, 8), facecolor=\"azure\")\n",
    "for label in np.unique(labels):\n",
    "    tmp = train_results[labels==label]\n",
    "    plt.scatter(tmp[:, 0], tmp[:, 1])\n",
    "plt.title(\"Embeddings after encoding with Arc loss\")"
   ]
  },
  {
   "cell_type": "code",
   "execution_count": null,
   "metadata": {},
   "outputs": [],
   "source": []
  }
 ],
 "metadata": {
  "kernelspec": {
   "display_name": "Python 3",
   "language": "python",
   "name": "python3"
  },
  "language_info": {
   "codemirror_mode": {
    "name": "ipython",
    "version": 3
   },
   "file_extension": ".py",
   "mimetype": "text/x-python",
   "name": "python",
   "nbconvert_exporter": "python",
   "pygments_lexer": "ipython3",
   "version": "3.11.4"
  },
  "orig_nbformat": 4
 },
 "nbformat": 4,
 "nbformat_minor": 2
}
