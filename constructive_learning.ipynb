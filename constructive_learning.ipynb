{
 "cells": [
  {
   "cell_type": "code",
   "execution_count": 1,
   "metadata": {},
   "outputs": [
    {
     "name": "stderr",
     "output_type": "stream",
     "text": [
      "/home/olegnest/.local/lib/python3.11/site-packages/tqdm/auto.py:21: TqdmWarning: IProgress not found. Please update jupyter and ipywidgets. See https://ipywidgets.readthedocs.io/en/stable/user_install.html\n",
      "  from .autonotebook import tqdm as notebook_tqdm\n"
     ]
    }
   ],
   "source": [
    "from data.soliton_dataset import SolitonDataset\n",
    "from models.autoencoders import AutoencoderFC, AutoencoderConv1D, AutoencoderRNN\n",
    "from utils.utils import train_val_test_split\n",
    "\n",
    "import numpy as np\n",
    "import matplotlib.pyplot as plt\n",
    "import pandas as pd\n",
    "from sklearn.neighbors import KNeighborsClassifier\n",
    "from sklearn.metrics import accuracy_score as accuracy\n",
    "from sklearn.metrics import silhouette_score\n",
    "from sklearn.preprocessing import StandardScaler\n",
    "import torch\n",
    "import torch.nn as nn\n",
    "from torch.utils.data import DataLoader\n",
    "from tqdm import tqdm"
   ]
  },
  {
   "cell_type": "code",
   "execution_count": 2,
   "metadata": {},
   "outputs": [],
   "source": [
    "SEED = 42\n",
    "np.random.seed(SEED)\n",
    "torch.manual_seed(SEED)\n",
    "\n",
    "device = torch.device(\"cuda\" if torch.cuda.is_available() else \"cpu\")"
   ]
  },
  {
   "cell_type": "code",
   "execution_count": 3,
   "metadata": {},
   "outputs": [
    {
     "data": {
      "text/html": [
       "<div>\n",
       "<style scoped>\n",
       "    .dataframe tbody tr th:only-of-type {\n",
       "        vertical-align: middle;\n",
       "    }\n",
       "\n",
       "    .dataframe tbody tr th {\n",
       "        vertical-align: top;\n",
       "    }\n",
       "\n",
       "    .dataframe thead th {\n",
       "        text-align: right;\n",
       "    }\n",
       "</style>\n",
       "<table border=\"1\" class=\"dataframe\">\n",
       "  <thead>\n",
       "    <tr style=\"text-align: right;\">\n",
       "      <th></th>\n",
       "      <th>1550.0</th>\n",
       "      <th>1549.8748798925087</th>\n",
       "      <th>1549.7497799834402</th>\n",
       "      <th>1549.624700267904</th>\n",
       "      <th>1549.4996407410108</th>\n",
       "      <th>1549.3746013978732</th>\n",
       "      <th>1549.2495822336057</th>\n",
       "      <th>1549.1245832433235</th>\n",
       "      <th>1548.999604422144</th>\n",
       "      <th>1548.8746457651862</th>\n",
       "      <th>...</th>\n",
       "      <th>1551.1269907041835</th>\n",
       "      <th>1551.0016885905482</th>\n",
       "      <th>1550.8764067194222</th>\n",
       "      <th>1550.751145085901</th>\n",
       "      <th>1550.6259036850813</th>\n",
       "      <th>1550.5006825120613</th>\n",
       "      <th>1550.375481561941</th>\n",
       "      <th>1550.2503008298215</th>\n",
       "      <th>1550.1251403108065</th>\n",
       "      <th>target</th>\n",
       "    </tr>\n",
       "  </thead>\n",
       "  <tbody>\n",
       "    <tr>\n",
       "      <th>0</th>\n",
       "      <td>25.646056</td>\n",
       "      <td>25.650028</td>\n",
       "      <td>25.639966</td>\n",
       "      <td>25.615890</td>\n",
       "      <td>25.577855</td>\n",
       "      <td>25.525948</td>\n",
       "      <td>25.460286</td>\n",
       "      <td>25.381017</td>\n",
       "      <td>25.288318</td>\n",
       "      <td>25.182399</td>\n",
       "      <td>...</td>\n",
       "      <td>24.990649</td>\n",
       "      <td>25.116764</td>\n",
       "      <td>25.230041</td>\n",
       "      <td>25.330229</td>\n",
       "      <td>25.417107</td>\n",
       "      <td>25.490478</td>\n",
       "      <td>25.550179</td>\n",
       "      <td>25.596074</td>\n",
       "      <td>25.628057</td>\n",
       "      <td>cons_one</td>\n",
       "    </tr>\n",
       "    <tr>\n",
       "      <th>1</th>\n",
       "      <td>106.806266</td>\n",
       "      <td>112.409808</td>\n",
       "      <td>424.880242</td>\n",
       "      <td>686.914489</td>\n",
       "      <td>1405.909674</td>\n",
       "      <td>32.762638</td>\n",
       "      <td>130.044831</td>\n",
       "      <td>625.502883</td>\n",
       "      <td>1410.410023</td>\n",
       "      <td>115.495991</td>\n",
       "      <td>...</td>\n",
       "      <td>325.588571</td>\n",
       "      <td>138.500308</td>\n",
       "      <td>80.540597</td>\n",
       "      <td>225.456932</td>\n",
       "      <td>649.640334</td>\n",
       "      <td>1.996701</td>\n",
       "      <td>229.406224</td>\n",
       "      <td>761.822174</td>\n",
       "      <td>213.996442</td>\n",
       "      <td>cons_many</td>\n",
       "    </tr>\n",
       "    <tr>\n",
       "      <th>2</th>\n",
       "      <td>66.742776</td>\n",
       "      <td>523.683413</td>\n",
       "      <td>317.596944</td>\n",
       "      <td>1046.224701</td>\n",
       "      <td>744.272499</td>\n",
       "      <td>250.673772</td>\n",
       "      <td>426.875556</td>\n",
       "      <td>270.139851</td>\n",
       "      <td>449.280882</td>\n",
       "      <td>289.328584</td>\n",
       "      <td>...</td>\n",
       "      <td>81.704307</td>\n",
       "      <td>349.552649</td>\n",
       "      <td>420.345688</td>\n",
       "      <td>186.359228</td>\n",
       "      <td>363.575276</td>\n",
       "      <td>56.096868</td>\n",
       "      <td>331.010606</td>\n",
       "      <td>199.400477</td>\n",
       "      <td>114.965091</td>\n",
       "      <td>cons_many</td>\n",
       "    </tr>\n",
       "    <tr>\n",
       "      <th>3</th>\n",
       "      <td>17.406022</td>\n",
       "      <td>17.368336</td>\n",
       "      <td>17.246741</td>\n",
       "      <td>17.043367</td>\n",
       "      <td>16.761907</td>\n",
       "      <td>16.407466</td>\n",
       "      <td>15.986371</td>\n",
       "      <td>15.505929</td>\n",
       "      <td>14.974164</td>\n",
       "      <td>14.399550</td>\n",
       "      <td>...</td>\n",
       "      <td>14.380802</td>\n",
       "      <td>14.948072</td>\n",
       "      <td>15.474983</td>\n",
       "      <td>15.953217</td>\n",
       "      <td>16.374769</td>\n",
       "      <td>16.732200</td>\n",
       "      <td>17.018902</td>\n",
       "      <td>17.229347</td>\n",
       "      <td>17.359305</td>\n",
       "      <td>cons_one</td>\n",
       "    </tr>\n",
       "    <tr>\n",
       "      <th>4</th>\n",
       "      <td>103.739823</td>\n",
       "      <td>103.581529</td>\n",
       "      <td>102.286535</td>\n",
       "      <td>99.899522</td>\n",
       "      <td>96.525690</td>\n",
       "      <td>92.330496</td>\n",
       "      <td>87.533321</td>\n",
       "      <td>82.394103</td>\n",
       "      <td>77.191973</td>\n",
       "      <td>72.194477</td>\n",
       "      <td>...</td>\n",
       "      <td>67.858970</td>\n",
       "      <td>73.340071</td>\n",
       "      <td>78.891431</td>\n",
       "      <td>84.296851</td>\n",
       "      <td>89.358338</td>\n",
       "      <td>93.893959</td>\n",
       "      <td>97.737289</td>\n",
       "      <td>100.739222</td>\n",
       "      <td>102.772649</td>\n",
       "      <td>cons_one</td>\n",
       "    </tr>\n",
       "  </tbody>\n",
       "</table>\n",
       "<p>5 rows × 2049 columns</p>\n",
       "</div>"
      ],
      "text/plain": [
       "       1550.0  1549.8748798925087  1549.7497799834402  1549.624700267904  \\\n",
       "0   25.646056           25.650028           25.639966          25.615890   \n",
       "1  106.806266          112.409808          424.880242         686.914489   \n",
       "2   66.742776          523.683413          317.596944        1046.224701   \n",
       "3   17.406022           17.368336           17.246741          17.043367   \n",
       "4  103.739823          103.581529          102.286535          99.899522   \n",
       "\n",
       "   1549.4996407410108  1549.3746013978732  1549.2495822336057  \\\n",
       "0           25.577855           25.525948           25.460286   \n",
       "1         1405.909674           32.762638          130.044831   \n",
       "2          744.272499          250.673772          426.875556   \n",
       "3           16.761907           16.407466           15.986371   \n",
       "4           96.525690           92.330496           87.533321   \n",
       "\n",
       "   1549.1245832433235  1548.999604422144  1548.8746457651862  ...  \\\n",
       "0           25.381017          25.288318           25.182399  ...   \n",
       "1          625.502883        1410.410023          115.495991  ...   \n",
       "2          270.139851         449.280882          289.328584  ...   \n",
       "3           15.505929          14.974164           14.399550  ...   \n",
       "4           82.394103          77.191973           72.194477  ...   \n",
       "\n",
       "   1551.1269907041835  1551.0016885905482  1550.8764067194222  \\\n",
       "0           24.990649           25.116764           25.230041   \n",
       "1          325.588571          138.500308           80.540597   \n",
       "2           81.704307          349.552649          420.345688   \n",
       "3           14.380802           14.948072           15.474983   \n",
       "4           67.858970           73.340071           78.891431   \n",
       "\n",
       "   1550.751145085901  1550.6259036850813  1550.5006825120613  \\\n",
       "0          25.330229           25.417107           25.490478   \n",
       "1         225.456932          649.640334            1.996701   \n",
       "2         186.359228          363.575276           56.096868   \n",
       "3          15.953217           16.374769           16.732200   \n",
       "4          84.296851           89.358338           93.893959   \n",
       "\n",
       "   1550.375481561941  1550.2503008298215  1550.1251403108065     target  \n",
       "0          25.550179           25.596074           25.628057   cons_one  \n",
       "1         229.406224          761.822174          213.996442  cons_many  \n",
       "2         331.010606          199.400477          114.965091  cons_many  \n",
       "3          17.018902           17.229347           17.359305   cons_one  \n",
       "4          97.737289          100.739222          102.772649   cons_one  \n",
       "\n",
       "[5 rows x 2049 columns]"
      ]
     },
     "execution_count": 3,
     "metadata": {},
     "output_type": "execute_result"
    }
   ],
   "source": [
    "df = pd.read_csv(\"df_soliton.csv\")\n",
    "df.head()"
   ]
  },
  {
   "cell_type": "code",
   "execution_count": 4,
   "metadata": {},
   "outputs": [],
   "source": [
    "float_columns = sorted(df.columns[:-1])\n",
    "cols = [\"target\"]\n",
    "for col in float_columns:\n",
    "    if 1520 < float(col) < 1580:\n",
    "        cols.append(col)\n",
    "df = df[cols]"
   ]
  },
  {
   "cell_type": "code",
   "execution_count": 5,
   "metadata": {},
   "outputs": [],
   "source": [
    "df_train, df_val, df_test = train_val_test_split(df, val_size=0.1, test_size=0.1, random_state=SEED)"
   ]
  },
  {
   "cell_type": "code",
   "execution_count": 6,
   "metadata": {},
   "outputs": [],
   "source": [
    "dim_int = df_train.shape[1] - 1\n",
    "\n",
    "model = AutoencoderFC(dim_code=dim_int)\n",
    "# model = AutoencoderConv1D(1)\n",
    "# model = AutoencoderRNN(dim_int, 1)"
   ]
  },
  {
   "cell_type": "code",
   "execution_count": 7,
   "metadata": {},
   "outputs": [],
   "source": [
    "if model.__class__.__name__ == \"AutoencoderRNN\":\n",
    "    batch_size = 1\n",
    "else:\n",
    "    batch_size = 32\n",
    "\n",
    "scaler = None\n",
    "# scaler = StandardScaler()\n",
    "\n",
    "spectra_train = SolitonDataset(df_train, train=True, scaler=scaler)\n",
    "spectra_val = SolitonDataset(df_val, scaler=scaler)\n",
    "spectra_test = SolitonDataset(df_test, scaler=scaler)\n",
    "\n",
    "train_dataloader = DataLoader(spectra_train,batch_size=batch_size, shuffle=True)\n",
    "val_dataloader = DataLoader(spectra_val, batch_size=batch_size)\n",
    "test_dataloader = DataLoader(spectra_test, batch_size=batch_size)\n",
    "\n",
    "dataloaders = {\"train\": train_dataloader, \"val\": val_dataloader, \"test\": test_dataloader}"
   ]
  },
  {
   "cell_type": "code",
   "execution_count": 8,
   "metadata": {},
   "outputs": [],
   "source": [
    "criterion = torch.nn.MSELoss()\n",
    "triplet = torch.nn.TripletMarginLoss()\n",
    "optimizer = torch.optim.Adamax(model.parameters(), lr=0.01)\n",
    "scheduler = torch.optim.lr_scheduler.StepLR(optimizer, step_size=1)"
   ]
  },
  {
   "cell_type": "code",
   "execution_count": 9,
   "metadata": {},
   "outputs": [],
   "source": [
    "def get_hard_batch(emb, labels, device=torch.device(\"cpu\")):\n",
    "    distance_matrix = torch.cdist(emb, emb).to(device)\n",
    "    mask = labels.unsqueeze(0) != labels.unsqueeze(1)\n",
    "    mask = mask.to(device)\n",
    "    negative = torch.argmin(mask * (mask * distance_matrix - 10), dim=1)\n",
    "\n",
    "    mask = mask * 1 - 1\n",
    "    mask.fill_diagonal_(0)\n",
    "    positive = torch.argmax(mask * (-1) * distance_matrix, dim=1)\n",
    "\n",
    "    return emb, emb[positive], emb[negative]"
   ]
  },
  {
   "cell_type": "code",
   "execution_count": 10,
   "metadata": {},
   "outputs": [],
   "source": [
    "def train(model, dataloaders, optimizer, criterion, epochs=200, scheduler=None, batch_hard=False, device=torch.device(\"cpu\")):\n",
    "\n",
    "    model = model.to(device)\n",
    "    scores = {\n",
    "        \"mse_train\": [],\n",
    "        \"mse_val\": [],\n",
    "        \"triplet_loss\": [],\n",
    "        \"accuracy_clf\": [],\n",
    "        \"silhoutte\": [],\n",
    "    }\n",
    "    clf = KNeighborsClassifier(n_neighbors=3)\n",
    "\n",
    "    for epoch in tqdm(range(epochs)):\n",
    "\n",
    "        train_mse_loss = []\n",
    "        train_triplet_loss = []\n",
    "\n",
    "        val_mse_loss = []\n",
    "        test_triplet_loss = []\n",
    "\n",
    "        arr_label_train = []\n",
    "        arr_emb_train = []\n",
    "\n",
    "        arr_label_test = []\n",
    "        arr_emb_test = []\n",
    "\n",
    "        model.train()\n",
    "        for anchor, positive, negative, anchor_label in dataloaders[\"train\"]:\n",
    "            anchor = anchor.to(device)\n",
    "            positive = positive.to(device)\n",
    "            negative = negative.to(device)\n",
    "\n",
    "            optimizer.zero_grad()\n",
    "\n",
    "            anchor_rebuild, anchor_out = model(anchor)\n",
    "            _, positive_out = model(positive)\n",
    "            _, negative_out = model(negative)\n",
    "\n",
    "            if batch_hard:\n",
    "                if not torch.min(torch.bincount(anchor_label)) < 2:\n",
    "                    anch_emb, pos_emb, neg_emb = get_hard_batch(anchor_out, anchor_label)\n",
    "                    loss_triplet = triplet(anch_emb, pos_emb, neg_emb)\n",
    "                else:\n",
    "                    continue\n",
    "            else:\n",
    "                loss_triplet = triplet(anchor_out, positive_out, negative_out)\n",
    "            \n",
    "            loss_mse = criterion(anchor, anchor_rebuild)\n",
    "            loss = loss_triplet + loss_mse / 1000\n",
    "            loss.backward()\n",
    "            optimizer.step()\n",
    "            \n",
    "            train_mse_loss.append(loss_mse.item())\n",
    "            train_triplet_loss.append(loss_triplet.cpu().detach().numpy())\n",
    "\n",
    "            arr_emb_train.append(anchor_out.cpu().detach().numpy())\n",
    "            arr_label_train.append(anchor_label.cpu().detach().numpy())\n",
    "\n",
    "        emb_train = np.array(arr_emb_train[:-1]).reshape(-1,2)\n",
    "        label_train = np.array(arr_label_train[:-1]).reshape(-1)\n",
    "        clf.fit(X=emb_train, y=label_train)\n",
    "\n",
    "        model.eval()\n",
    "        for anchor, _, _, anchor_label in dataloaders[\"val\"]:\n",
    "            anchor = anchor.to(device)\n",
    "\n",
    "            anchor_rebuild, anchor_out = model(anchor)\n",
    "            loss_mse_val = mse(anchor, anchor_rebuild)\n",
    "            val_mse_loss.append(loss_mse_val.item())\n",
    "\n",
    "            arr_emb_test.append(anchor_out.cpu().detach().numpy())\n",
    "            arr_label_test.append(anchor_label.cpu().detach().numpy())\n",
    "\n",
    "        emb_test = np.array(arr_emb_test[:-1]).reshape(-1,2)\n",
    "        label_test = np.array(arr_label_test[:-1]).reshape(-1)\n",
    "        label_pred = clf.predict(X=emb_test)\n",
    "        acc = accuracy(label_test, label_pred)\n",
    "        silhoutte = silhouette_score(X=emb_test, labels=label_test)\n",
    "        scores[\"accuracy_clf\"].append(acc)\n",
    "        scores[\"silhoutte\"].append(silhoutte)\n",
    "        scores[\"mse_train\"].append(np.mean(train_mse_loss))\n",
    "        scores[\"mse_val\"].append(np.mean(val_mse_loss))\n",
    "        scores[\"triplet_loss\"].append(np.mean(train_triplet_loss))\n",
    "        if scheduler:\n",
    "            scheduler.step()\n",
    "\n",
    "        print(f\"Epoch #{epoch + 1}: MSE train: {np.mean(train_mse_loss)}, MSE val: {np.mean(val_mse_loss)}\\t Triplet train: {np.mean(train_triplet_loss)} \\t Val acc: {acc}\")\n",
    "    return model, scores"
   ]
  },
  {
   "cell_type": "code",
   "execution_count": 11,
   "metadata": {},
   "outputs": [
    {
     "name": "stderr",
     "output_type": "stream",
     "text": [
      "  5%|▌         | 1/20 [00:10<03:19, 10.47s/it]"
     ]
    },
    {
     "name": "stdout",
     "output_type": "stream",
     "text": [
      "Epoch #1: MSE train: 3340.5453019393117, MSE val: 2233.699651381549\t Triplet train: 1.0213603973388672 \t Val acc: 0.796875\n"
     ]
    },
    {
     "name": "stderr",
     "output_type": "stream",
     "text": [
      " 10%|█         | 2/20 [00:21<03:10, 10.59s/it]"
     ]
    },
    {
     "name": "stdout",
     "output_type": "stream",
     "text": [
      "Epoch #2: MSE train: 2514.1746525011563, MSE val: 2200.9077794692093\t Triplet train: 0.4017030894756317 \t Val acc: 0.857421875\n"
     ]
    },
    {
     "name": "stderr",
     "output_type": "stream",
     "text": [
      " 15%|█▌        | 3/20 [00:31<02:59, 10.56s/it]"
     ]
    },
    {
     "name": "stdout",
     "output_type": "stream",
     "text": [
      "Epoch #3: MSE train: 2471.0002182408384, MSE val: 2186.5673810173485\t Triplet train: 0.3780727982521057 \t Val acc: 0.875\n"
     ]
    },
    {
     "name": "stderr",
     "output_type": "stream",
     "text": [
      " 20%|██        | 4/20 [00:42<02:50, 10.65s/it]"
     ]
    },
    {
     "name": "stdout",
     "output_type": "stream",
     "text": [
      "Epoch #4: MSE train: 2464.4083462765343, MSE val: 2185.817237405216\t Triplet train: 0.36935296654701233 \t Val acc: 0.873046875\n"
     ]
    },
    {
     "name": "stderr",
     "output_type": "stream",
     "text": [
      " 25%|██▌       | 5/20 [00:53<02:44, 10.95s/it]"
     ]
    },
    {
     "name": "stdout",
     "output_type": "stream",
     "text": [
      "Epoch #5: MSE train: 2460.240534330669, MSE val: 2185.7573098575367\t Triplet train: 0.38937297463417053 \t Val acc: 0.873046875\n"
     ]
    },
    {
     "name": "stderr",
     "output_type": "stream",
     "text": [
      " 30%|███       | 6/20 [01:05<02:35, 11.12s/it]"
     ]
    },
    {
     "name": "stdout",
     "output_type": "stream",
     "text": [
      "Epoch #6: MSE train: 2466.8329351324783, MSE val: 2185.775998283835\t Triplet train: 0.393100380897522 \t Val acc: 0.861328125\n"
     ]
    },
    {
     "name": "stderr",
     "output_type": "stream",
     "text": [
      " 35%|███▌      | 7/20 [01:17<02:28, 11.43s/it]"
     ]
    },
    {
     "name": "stdout",
     "output_type": "stream",
     "text": [
      "Epoch #7: MSE train: 2471.503060591848, MSE val: 2185.7757047765394\t Triplet train: 0.3880116939544678 \t Val acc: 0.8671875\n"
     ]
    },
    {
     "name": "stderr",
     "output_type": "stream",
     "text": [
      " 40%|████      | 8/20 [01:29<02:21, 11.76s/it]"
     ]
    },
    {
     "name": "stdout",
     "output_type": "stream",
     "text": [
      "Epoch #8: MSE train: 2471.4575452302633, MSE val: 2185.7756832347195\t Triplet train: 0.3913722336292267 \t Val acc: 0.87890625\n"
     ]
    },
    {
     "name": "stderr",
     "output_type": "stream",
     "text": [
      " 45%|████▌     | 9/20 [01:44<02:18, 12.55s/it]"
     ]
    },
    {
     "name": "stdout",
     "output_type": "stream",
     "text": [
      "Epoch #9: MSE train: 2467.5857823020533, MSE val: 2185.775676054113\t Triplet train: 0.3955315947532654 \t Val acc: 0.8515625\n"
     ]
    },
    {
     "name": "stderr",
     "output_type": "stream",
     "text": [
      " 50%|█████     | 10/20 [01:56<02:04, 12.41s/it]"
     ]
    },
    {
     "name": "stdout",
     "output_type": "stream",
     "text": [
      "Epoch #10: MSE train: 2464.7562769839637, MSE val: 2185.775676054113\t Triplet train: 0.3695405125617981 \t Val acc: 0.859375\n"
     ]
    },
    {
     "name": "stderr",
     "output_type": "stream",
     "text": [
      " 55%|█████▌    | 11/20 [02:09<01:54, 12.73s/it]"
     ]
    },
    {
     "name": "stdout",
     "output_type": "stream",
     "text": [
      "Epoch #11: MSE train: 2464.0915854604623, MSE val: 2185.775676054113\t Triplet train: 0.3912481665611267 \t Val acc: 0.859375\n"
     ]
    },
    {
     "name": "stderr",
     "output_type": "stream",
     "text": [
      " 60%|██████    | 12/20 [02:22<01:42, 12.77s/it]"
     ]
    },
    {
     "name": "stdout",
     "output_type": "stream",
     "text": [
      "Epoch #12: MSE train: 2473.5168744137413, MSE val: 2185.775676054113\t Triplet train: 0.37993139028549194 \t Val acc: 0.8671875\n"
     ]
    },
    {
     "name": "stderr",
     "output_type": "stream",
     "text": [
      " 65%|██████▌   | 13/20 [02:34<01:28, 12.58s/it]"
     ]
    },
    {
     "name": "stdout",
     "output_type": "stream",
     "text": [
      "Epoch #13: MSE train: 2472.6881623519093, MSE val: 2185.775676054113\t Triplet train: 0.4020431637763977 \t Val acc: 0.8515625\n"
     ]
    },
    {
     "name": "stderr",
     "output_type": "stream",
     "text": [
      " 70%|███████   | 14/20 [02:46<01:13, 12.18s/it]"
     ]
    },
    {
     "name": "stdout",
     "output_type": "stream",
     "text": [
      "Epoch #14: MSE train: 2468.436261026483, MSE val: 2185.775676054113\t Triplet train: 0.39289307594299316 \t Val acc: 0.865234375\n"
     ]
    },
    {
     "name": "stderr",
     "output_type": "stream",
     "text": [
      " 75%|███████▌  | 15/20 [02:58<01:01, 12.31s/it]"
     ]
    },
    {
     "name": "stdout",
     "output_type": "stream",
     "text": [
      "Epoch #15: MSE train: 2469.7752864235326, MSE val: 2185.775676054113\t Triplet train: 0.3987719416618347 \t Val acc: 0.85546875\n"
     ]
    },
    {
     "name": "stderr",
     "output_type": "stream",
     "text": [
      " 80%|████████  | 16/20 [03:09<00:48, 12.03s/it]"
     ]
    },
    {
     "name": "stdout",
     "output_type": "stream",
     "text": [
      "Epoch #16: MSE train: 2467.620641808761, MSE val: 2185.775676054113\t Triplet train: 0.4195614457130432 \t Val acc: 0.857421875\n"
     ]
    },
    {
     "name": "stderr",
     "output_type": "stream",
     "text": [
      " 85%|████████▌ | 17/20 [03:21<00:35, 11.99s/it]"
     ]
    },
    {
     "name": "stdout",
     "output_type": "stream",
     "text": [
      "Epoch #17: MSE train: 2467.605889772114, MSE val: 2185.775676054113\t Triplet train: 0.4019013047218323 \t Val acc: 0.869140625\n"
     ]
    },
    {
     "name": "stderr",
     "output_type": "stream",
     "text": [
      " 90%|█████████ | 18/20 [03:34<00:24, 12.02s/it]"
     ]
    },
    {
     "name": "stdout",
     "output_type": "stream",
     "text": [
      "Epoch #18: MSE train: 2464.2697157608836, MSE val: 2185.775676054113\t Triplet train: 0.38850173354148865 \t Val acc: 0.86328125\n"
     ]
    },
    {
     "name": "stderr",
     "output_type": "stream",
     "text": [
      " 95%|█████████▌| 19/20 [03:45<00:11, 11.93s/it]"
     ]
    },
    {
     "name": "stdout",
     "output_type": "stream",
     "text": [
      "Epoch #19: MSE train: 2462.8075133875795, MSE val: 2185.775676054113\t Triplet train: 0.4015982151031494 \t Val acc: 0.853515625\n"
     ]
    },
    {
     "name": "stderr",
     "output_type": "stream",
     "text": [
      "100%|██████████| 20/20 [03:57<00:00, 11.89s/it]"
     ]
    },
    {
     "name": "stdout",
     "output_type": "stream",
     "text": [
      "Epoch #20: MSE train: 2474.959532888312, MSE val: 2185.775676054113\t Triplet train: 0.3804311156272888 \t Val acc: 0.85546875\n"
     ]
    },
    {
     "name": "stderr",
     "output_type": "stream",
     "text": [
      "\n"
     ]
    }
   ],
   "source": [
    "m_trained, scores = train(model, dataloaders, optimizer, criterion, 20, scheduler, device=device)"
   ]
  },
  {
   "cell_type": "code",
   "execution_count": 12,
   "metadata": {},
   "outputs": [
    {
     "name": "stderr",
     "output_type": "stream",
     "text": [
      "100%|██████████| 19/19 [00:00<00:00, 33.06it/s]\n"
     ]
    }
   ],
   "source": [
    "train_results = []\n",
    "labels = []\n",
    "\n",
    "model.eval()\n",
    "for img, _, _, label in tqdm(dataloaders[\"test\"]):\n",
    "    _, emb = model(img.to(device))\n",
    "    train_results.append(emb.detach().numpy())\n",
    "    labels.append(label)\n",
    "\n",
    "train_results = np.concatenate(train_results)\n",
    "labels = np.concatenate(labels)"
   ]
  },
  {
   "cell_type": "code",
   "execution_count": 14,
   "metadata": {},
   "outputs": [
    {
     "data": {
      "text/plain": [
       "Text(0.5, 1.0, 'Embeddings after encoding with triplet loss')"
      ]
     },
     "execution_count": 14,
     "metadata": {},
     "output_type": "execute_result"
    },
    {
     "data": {
      "image/png": "[encoded data removed]",
      "text/plain": [
       "<Figure size 1200x800 with 1 Axes>"
      ]
     },
     "metadata": {},
     "output_type": "display_data"
    }
   ],
   "source": [
    "plt.figure(figsize=(12, 8), facecolor=\"azure\")\n",
    "for label in np.unique(labels):\n",
    "    tmp = train_results[labels==label]\n",
    "    plt.scatter(tmp[:, 0], tmp[:, 1])\n",
    "plt.title(\"Embeddings after encoding with triplet loss\")"
   ]
  },
  {
   "cell_type": "code",
   "execution_count": null,
   "metadata": {},
   "outputs": [],
   "source": []
  }
 ],
 "metadata": {
  "kernelspec": {
   "display_name": "Python 3.10.1 64-bit",
   "language": "python",
   "name": "python3"
  },
  "language_info": {
   "codemirror_mode": {
    "name": "ipython",
    "version": 3
   },
   "file_extension": ".py",
   "mimetype": "text/x-python",
   "name": "python",
   "nbconvert_exporter": "python",
   "pygments_lexer": "ipython3",
   "version": "3.11.4"
  },
  "orig_nbformat": 4,
  "vscode": {
   "interpreter": {
    "hash": "b2cc8517ddca7d05a992cd3fad7fc59aa9b07f60b5a0076d3921b996532f4af4"
   }
  }
 },
 "nbformat": 4,
 "nbformat_minor": 2
}
