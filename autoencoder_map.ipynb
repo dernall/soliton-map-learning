{
 "cells": [
  {
   "cell_type": "code",
   "execution_count": 1,
   "metadata": {},
   "outputs": [
    {
     "name": "stderr",
     "output_type": "stream",
     "text": [
      "/home/olegnest/.local/lib/python3.11/site-packages/tqdm/auto.py:21: TqdmWarning: IProgress not found. Please update jupyter and ipywidgets. See https://ipywidgets.readthedocs.io/en/stable/user_install.html\n",
      "  from .autonotebook import tqdm as notebook_tqdm\n"
     ]
    }
   ],
   "source": [
    "from data.soliton_dataset import SolitonDataset\n",
    "from models.autoencoders import AutoencoderFC, AutoencoderConv1D, AutoencoderRNN\n",
    "from utils.utils import train_val_test_split\n",
    "\n",
    "import numpy as np\n",
    "import matplotlib.pyplot as plt\n",
    "import pandas as pd\n",
    "from sklearn.neighbors import KNeighborsClassifier\n",
    "from sklearn.metrics import accuracy_score as accuracy\n",
    "from sklearn.metrics import silhouette_score\n",
    "from sklearn.preprocessing import StandardScaler\n",
    "import torch\n",
    "from torch.utils.data import DataLoader\n",
    "from tqdm import tqdm"
   ]
  },
  {
   "cell_type": "code",
   "execution_count": 2,
   "metadata": {},
   "outputs": [],
   "source": [
    "SEED = 42\n",
    "np.random.seed(SEED)\n",
    "torch.manual_seed(SEED)\n",
    "\n",
    "device = torch.device(\"cuda\" if torch.cuda.is_available() else \"cpu\")"
   ]
  },
  {
   "cell_type": "code",
   "execution_count": 3,
   "metadata": {},
   "outputs": [
    {
     "data": {
      "text/html": [
       "<div>\n",
       "<style scoped>\n",
       "    .dataframe tbody tr th:only-of-type {\n",
       "        vertical-align: middle;\n",
       "    }\n",
       "\n",
       "    .dataframe tbody tr th {\n",
       "        vertical-align: top;\n",
       "    }\n",
       "\n",
       "    .dataframe thead th {\n",
       "        text-align: right;\n",
       "    }\n",
       "</style>\n",
       "<table border=\"1\" class=\"dataframe\">\n",
       "  <thead>\n",
       "    <tr style=\"text-align: right;\">\n",
       "      <th></th>\n",
       "      <th>1550.0</th>\n",
       "      <th>1549.8748798925087</th>\n",
       "      <th>1549.7497799834402</th>\n",
       "      <th>1549.624700267904</th>\n",
       "      <th>1549.4996407410108</th>\n",
       "      <th>1549.3746013978732</th>\n",
       "      <th>1549.2495822336057</th>\n",
       "      <th>1549.1245832433235</th>\n",
       "      <th>1548.999604422144</th>\n",
       "      <th>1548.8746457651862</th>\n",
       "      <th>...</th>\n",
       "      <th>1551.1269907041835</th>\n",
       "      <th>1551.0016885905482</th>\n",
       "      <th>1550.8764067194222</th>\n",
       "      <th>1550.751145085901</th>\n",
       "      <th>1550.6259036850813</th>\n",
       "      <th>1550.5006825120613</th>\n",
       "      <th>1550.375481561941</th>\n",
       "      <th>1550.2503008298215</th>\n",
       "      <th>1550.1251403108065</th>\n",
       "      <th>target</th>\n",
       "    </tr>\n",
       "  </thead>\n",
       "  <tbody>\n",
       "    <tr>\n",
       "      <th>0</th>\n",
       "      <td>25.646056</td>\n",
       "      <td>25.650028</td>\n",
       "      <td>25.639966</td>\n",
       "      <td>25.615890</td>\n",
       "      <td>25.577855</td>\n",
       "      <td>25.525948</td>\n",
       "      <td>25.460286</td>\n",
       "      <td>25.381017</td>\n",
       "      <td>25.288318</td>\n",
       "      <td>25.182399</td>\n",
       "      <td>...</td>\n",
       "      <td>24.990649</td>\n",
       "      <td>25.116764</td>\n",
       "      <td>25.230041</td>\n",
       "      <td>25.330229</td>\n",
       "      <td>25.417107</td>\n",
       "      <td>25.490478</td>\n",
       "      <td>25.550179</td>\n",
       "      <td>25.596074</td>\n",
       "      <td>25.628057</td>\n",
       "      <td>cons_one</td>\n",
       "    </tr>\n",
       "    <tr>\n",
       "      <th>1</th>\n",
       "      <td>106.806266</td>\n",
       "      <td>112.409808</td>\n",
       "      <td>424.880242</td>\n",
       "      <td>686.914489</td>\n",
       "      <td>1405.909674</td>\n",
       "      <td>32.762638</td>\n",
       "      <td>130.044831</td>\n",
       "      <td>625.502883</td>\n",
       "      <td>1410.410023</td>\n",
       "      <td>115.495991</td>\n",
       "      <td>...</td>\n",
       "      <td>325.588571</td>\n",
       "      <td>138.500308</td>\n",
       "      <td>80.540597</td>\n",
       "      <td>225.456932</td>\n",
       "      <td>649.640334</td>\n",
       "      <td>1.996701</td>\n",
       "      <td>229.406224</td>\n",
       "      <td>761.822174</td>\n",
       "      <td>213.996442</td>\n",
       "      <td>cons_many</td>\n",
       "    </tr>\n",
       "    <tr>\n",
       "      <th>2</th>\n",
       "      <td>66.742776</td>\n",
       "      <td>523.683413</td>\n",
       "      <td>317.596944</td>\n",
       "      <td>1046.224701</td>\n",
       "      <td>744.272499</td>\n",
       "      <td>250.673772</td>\n",
       "      <td>426.875556</td>\n",
       "      <td>270.139851</td>\n",
       "      <td>449.280882</td>\n",
       "      <td>289.328584</td>\n",
       "      <td>...</td>\n",
       "      <td>81.704307</td>\n",
       "      <td>349.552649</td>\n",
       "      <td>420.345688</td>\n",
       "      <td>186.359228</td>\n",
       "      <td>363.575276</td>\n",
       "      <td>56.096868</td>\n",
       "      <td>331.010606</td>\n",
       "      <td>199.400477</td>\n",
       "      <td>114.965091</td>\n",
       "      <td>cons_many</td>\n",
       "    </tr>\n",
       "    <tr>\n",
       "      <th>3</th>\n",
       "      <td>17.406022</td>\n",
       "      <td>17.368336</td>\n",
       "      <td>17.246741</td>\n",
       "      <td>17.043367</td>\n",
       "      <td>16.761907</td>\n",
       "      <td>16.407466</td>\n",
       "      <td>15.986371</td>\n",
       "      <td>15.505929</td>\n",
       "      <td>14.974164</td>\n",
       "      <td>14.399550</td>\n",
       "      <td>...</td>\n",
       "      <td>14.380802</td>\n",
       "      <td>14.948072</td>\n",
       "      <td>15.474983</td>\n",
       "      <td>15.953217</td>\n",
       "      <td>16.374769</td>\n",
       "      <td>16.732200</td>\n",
       "      <td>17.018902</td>\n",
       "      <td>17.229347</td>\n",
       "      <td>17.359305</td>\n",
       "      <td>cons_one</td>\n",
       "    </tr>\n",
       "    <tr>\n",
       "      <th>4</th>\n",
       "      <td>103.739823</td>\n",
       "      <td>103.581529</td>\n",
       "      <td>102.286535</td>\n",
       "      <td>99.899522</td>\n",
       "      <td>96.525690</td>\n",
       "      <td>92.330496</td>\n",
       "      <td>87.533321</td>\n",
       "      <td>82.394103</td>\n",
       "      <td>77.191973</td>\n",
       "      <td>72.194477</td>\n",
       "      <td>...</td>\n",
       "      <td>67.858970</td>\n",
       "      <td>73.340071</td>\n",
       "      <td>78.891431</td>\n",
       "      <td>84.296851</td>\n",
       "      <td>89.358338</td>\n",
       "      <td>93.893959</td>\n",
       "      <td>97.737289</td>\n",
       "      <td>100.739222</td>\n",
       "      <td>102.772649</td>\n",
       "      <td>cons_one</td>\n",
       "    </tr>\n",
       "  </tbody>\n",
       "</table>\n",
       "<p>5 rows × 2049 columns</p>\n",
       "</div>"
      ],
      "text/plain": [
       "       1550.0  1549.8748798925087  1549.7497799834402  1549.624700267904  \\\n",
       "0   25.646056           25.650028           25.639966          25.615890   \n",
       "1  106.806266          112.409808          424.880242         686.914489   \n",
       "2   66.742776          523.683413          317.596944        1046.224701   \n",
       "3   17.406022           17.368336           17.246741          17.043367   \n",
       "4  103.739823          103.581529          102.286535          99.899522   \n",
       "\n",
       "   1549.4996407410108  1549.3746013978732  1549.2495822336057  \\\n",
       "0           25.577855           25.525948           25.460286   \n",
       "1         1405.909674           32.762638          130.044831   \n",
       "2          744.272499          250.673772          426.875556   \n",
       "3           16.761907           16.407466           15.986371   \n",
       "4           96.525690           92.330496           87.533321   \n",
       "\n",
       "   1549.1245832433235  1548.999604422144  1548.8746457651862  ...  \\\n",
       "0           25.381017          25.288318           25.182399  ...   \n",
       "1          625.502883        1410.410023          115.495991  ...   \n",
       "2          270.139851         449.280882          289.328584  ...   \n",
       "3           15.505929          14.974164           14.399550  ...   \n",
       "4           82.394103          77.191973           72.194477  ...   \n",
       "\n",
       "   1551.1269907041835  1551.0016885905482  1550.8764067194222  \\\n",
       "0           24.990649           25.116764           25.230041   \n",
       "1          325.588571          138.500308           80.540597   \n",
       "2           81.704307          349.552649          420.345688   \n",
       "3           14.380802           14.948072           15.474983   \n",
       "4           67.858970           73.340071           78.891431   \n",
       "\n",
       "   1550.751145085901  1550.6259036850813  1550.5006825120613  \\\n",
       "0          25.330229           25.417107           25.490478   \n",
       "1         225.456932          649.640334            1.996701   \n",
       "2         186.359228          363.575276           56.096868   \n",
       "3          15.953217           16.374769           16.732200   \n",
       "4          84.296851           89.358338           93.893959   \n",
       "\n",
       "   1550.375481561941  1550.2503008298215  1550.1251403108065     target  \n",
       "0          25.550179           25.596074           25.628057   cons_one  \n",
       "1         229.406224          761.822174          213.996442  cons_many  \n",
       "2         331.010606          199.400477          114.965091  cons_many  \n",
       "3          17.018902           17.229347           17.359305   cons_one  \n",
       "4          97.737289          100.739222          102.772649   cons_one  \n",
       "\n",
       "[5 rows x 2049 columns]"
      ]
     },
     "execution_count": 3,
     "metadata": {},
     "output_type": "execute_result"
    }
   ],
   "source": [
    "df = pd.read_csv(\"df_soliton.csv\")\n",
    "df.head()"
   ]
  },
  {
   "cell_type": "code",
   "execution_count": 4,
   "metadata": {},
   "outputs": [],
   "source": [
    "float_columns = sorted(df.columns[:-1])\n",
    "cols = [\"target\"]\n",
    "for col in float_columns:\n",
    "    if 1520 < float(col) < 1580:\n",
    "        cols.append(col)\n",
    "df = df[cols]"
   ]
  },
  {
   "cell_type": "code",
   "execution_count": 5,
   "metadata": {},
   "outputs": [],
   "source": [
    "df_train, df_val, df_test = train_val_test_split(df, 0.1, 0.1, random_state=SEED)"
   ]
  },
  {
   "cell_type": "code",
   "execution_count": 6,
   "metadata": {},
   "outputs": [],
   "source": [
    "dim_int = df_train.shape[1] - 1\n",
    "\n",
    "model = AutoencoderFC(dim_code=dim_int)\n",
    "# model = AutoencoderConv1D(1)\n",
    "# model = AutoencoderRNN(dim_int, 1)"
   ]
  },
  {
   "cell_type": "code",
   "execution_count": 7,
   "metadata": {},
   "outputs": [],
   "source": [
    "if model.__class__.__name__ == \"AutoencoderRNN\":\n",
    "    batch_size = 1\n",
    "else:\n",
    "    batch_size = 32\n",
    "    \n",
    "scaler = None \n",
    "# scaler = StandardScaler()\n",
    "spectra_train = SolitonDataset(df_train, train=True, scaler=scaler)\n",
    "spectra_val = SolitonDataset(df_val, scaler=scaler)\n",
    "spectra_test = SolitonDataset(df_test, scaler=scaler)\n",
    "\n",
    "train_dataloader = DataLoader(spectra_train,batch_size=batch_size, shuffle=True)\n",
    "val_dataloader = DataLoader(spectra_val, batch_size=batch_size)\n",
    "test_dataloader = DataLoader(spectra_test, batch_size=batch_size)\n",
    "\n",
    "dataloaders = {\"train\": train_dataloader, \"val\": val_dataloader, \"test\": test_dataloader}"
   ]
  },
  {
   "cell_type": "code",
   "execution_count": 8,
   "metadata": {},
   "outputs": [],
   "source": [
    "criterion = torch.nn.MSELoss()\n",
    "optimizer = torch.optim.Adamax(model.parameters(), lr=0.01)\n",
    "scheduler = torch.optim.lr_scheduler.StepLR(optimizer, step_size=1)"
   ]
  },
  {
   "cell_type": "code",
   "execution_count": 9,
   "metadata": {},
   "outputs": [],
   "source": [
    "def train(model, dataloaders, criterion, optimizer, num_epochs=10,\n",
    "          scheduler=None, savename=None, device=torch.device(\"cpu\")):\n",
    "    \n",
    "    model = model.to(device)\n",
    "    losses_epoch = {'train': [], 'val': []}\n",
    "    for epoch in tqdm(range(num_epochs)):\n",
    "        loss_val = []\n",
    "        loss_train = []\n",
    "\n",
    "        model.train()\n",
    "        for inputs, _, _, _ in dataloaders[\"train\"]:\n",
    "            inputs = inputs.to(device)\n",
    "            optimizer.zero_grad()\n",
    "            out, _ = model(inputs)\n",
    "            loss = criterion(out, inputs)\n",
    "            loss.backward()\n",
    "            optimizer.step()\n",
    "            loss_train.append(loss.detach().item())\n",
    "\n",
    "        model.eval()\n",
    "        for inputs, _, _, _ in dataloaders[\"val\"]:\n",
    "            inputs = inputs.to(device)\n",
    "            out, _ = model(inputs)\n",
    "            loss = criterion(out, inputs)\n",
    "            loss_val.append(loss.detach().item())\n",
    "        \n",
    "        if scheduler:\n",
    "            scheduler.step()\n",
    "\n",
    "        train_loss_epoch = np.mean(loss_train)\n",
    "        val_loss_epoch = np.mean(loss_val)\n",
    "        losses_epoch[\"train\"].append(train_loss_epoch)\n",
    "        losses_epoch[\"val\"].append(val_loss_epoch)\n",
    "\n",
    "        print(f\"Epoch #{epoch + 1}, train loss: {train_loss_epoch}, val loss: {val_loss_epoch}\")\n",
    "\n",
    "    if savename:\n",
    "        torch.save(model.state_dict(), savename)\n",
    "    \n",
    "    return model, losses_epoch"
   ]
  },
  {
   "cell_type": "code",
   "execution_count": 10,
   "metadata": {},
   "outputs": [
    {
     "name": "stderr",
     "output_type": "stream",
     "text": [
      " 10%|█         | 1/10 [00:09<01:21,  9.01s/it]"
     ]
    },
    {
     "name": "stdout",
     "output_type": "stream",
     "text": [
      "Epoch #1, train loss: 5565.969584414834, val loss: 2518.362051571117\n"
     ]
    },
    {
     "name": "stderr",
     "output_type": "stream",
     "text": [
      " 20%|██        | 2/10 [00:17<01:11,  8.90s/it]"
     ]
    },
    {
     "name": "stdout",
     "output_type": "stream",
     "text": [
      "Epoch #2, train loss: 2681.3373575712503, val loss: 2433.2884880514707\n"
     ]
    },
    {
     "name": "stderr",
     "output_type": "stream",
     "text": [
      " 30%|███       | 3/10 [00:27<01:04,  9.28s/it]"
     ]
    },
    {
     "name": "stdout",
     "output_type": "stream",
     "text": [
      "Epoch #3, train loss: 2606.5571630377517, val loss: 2414.369348862592\n"
     ]
    },
    {
     "name": "stderr",
     "output_type": "stream",
     "text": [
      " 40%|████      | 4/10 [00:36<00:54,  9.13s/it]"
     ]
    },
    {
     "name": "stdout",
     "output_type": "stream",
     "text": [
      "Epoch #4, train loss: 2597.3053524619654, val loss: 2416.887729420381\n"
     ]
    },
    {
     "name": "stderr",
     "output_type": "stream",
     "text": [
      " 50%|█████     | 5/10 [00:46<00:47,  9.42s/it]"
     ]
    },
    {
     "name": "stdout",
     "output_type": "stream",
     "text": [
      "Epoch #5, train loss: 2596.7192194085374, val loss: 2416.623154584099\n"
     ]
    },
    {
     "name": "stderr",
     "output_type": "stream",
     "text": [
      " 60%|██████    | 6/10 [00:57<00:39,  9.95s/it]"
     ]
    },
    {
     "name": "stdout",
     "output_type": "stream",
     "text": [
      "Epoch #6, train loss: 2603.169716684442, val loss: 2416.6124231675094\n"
     ]
    },
    {
     "name": "stderr",
     "output_type": "stream",
     "text": [
      " 70%|███████   | 7/10 [01:08<00:30, 10.23s/it]"
     ]
    },
    {
     "name": "stdout",
     "output_type": "stream",
     "text": [
      "Epoch #7, train loss: 2601.3450225026986, val loss: 2416.608980066636\n"
     ]
    },
    {
     "name": "stderr",
     "output_type": "stream",
     "text": [
      " 80%|████████  | 8/10 [01:18<00:20, 10.20s/it]"
     ]
    },
    {
     "name": "stdout",
     "output_type": "stream",
     "text": [
      "Epoch #8, train loss: 2595.781987641987, val loss: 2416.6088741526883\n"
     ]
    },
    {
     "name": "stderr",
     "output_type": "stream",
     "text": [
      " 90%|█████████ | 9/10 [01:29<00:10, 10.43s/it]"
     ]
    },
    {
     "name": "stdout",
     "output_type": "stream",
     "text": [
      "Epoch #9, train loss: 2599.7598099959523, val loss: 2416.6088741526883\n"
     ]
    },
    {
     "name": "stderr",
     "output_type": "stream",
     "text": [
      "100%|██████████| 10/10 [01:40<00:00, 10.01s/it]"
     ]
    },
    {
     "name": "stdout",
     "output_type": "stream",
     "text": [
      "Epoch #10, train loss: 2596.6266856946445, val loss: 2416.6088741526883\n"
     ]
    },
    {
     "name": "stderr",
     "output_type": "stream",
     "text": [
      "\n"
     ]
    }
   ],
   "source": [
    "model, fc_losses = train(model, dataloaders, criterion, optimizer, 10, scheduler, device=device)"
   ]
  },
  {
   "cell_type": "code",
   "execution_count": 11,
   "metadata": {},
   "outputs": [],
   "source": [
    "reconst_sample, _, _, _ = next(iter(test_dataloader))\n",
    "reconst_sample_cuda = reconst_sample.to(device)\n",
    "reconst_out, _ = model(reconst_sample_cuda)\n",
    "reconst_out = reconst_out.detach().numpy()\n",
    "if scaler:\n",
    "    reconst_sample = scaler.inverse_transform(reconst_sample)\n",
    "    reconst_out = scaler.inverse_transform(reconst_out)"
   ]
  },
  {
   "cell_type": "code",
   "execution_count": 12,
   "metadata": {},
   "outputs": [
    {
     "data": {
      "image/png": "[encoded data removed]",
      "text/plain": [
       "<Figure size 800x800 with 1 Axes>"
      ]
     },
     "metadata": {},
     "output_type": "display_data"
    }
   ],
   "source": [
    "plt.figure(figsize=(8, 8))\n",
    "plt.plot(reconst_out[0], label=\"Autoencoder\", ls=\"--\")\n",
    "plt.plot(reconst_sample[0], label=\"Original\")\n",
    "plt.title(\"Example of reconstruction\")\n",
    "plt.legend();"
   ]
  },
  {
   "cell_type": "code",
   "execution_count": 13,
   "metadata": {},
   "outputs": [],
   "source": [
    "def test(model, dataloaders, criterion, scaler=None, device=torch.device(\"cpu\")):\n",
    "    \n",
    "      model = model.to(device)\n",
    "      arr_emb_train = []\n",
    "      arr_label_train = []\n",
    "      arr_emb_test = []\n",
    "      arr_label_test = []\n",
    "      test_mse_loss = []\n",
    "\n",
    "      model.eval()\n",
    "      for anchor, _, _, anchor_label in dataloaders[\"train\"]:\n",
    "            anchor = anchor.to(device)\n",
    "\n",
    "            _, anchor_out = model(anchor)\n",
    "            arr_emb_train.append(anchor_out.detach().numpy())\n",
    "            arr_label_train.append(anchor_label.detach().numpy())\n",
    "\n",
    "      clf = KNeighborsClassifier(n_neighbors=3)\n",
    "      emb_train = np.array(arr_emb_train[:-1]).reshape(-1,2)\n",
    "      label_train = np.array(arr_label_train[:-1]).reshape(-1)\n",
    "      clf.fit(X=emb_train, y=label_train)\n",
    "\n",
    "      for anchor, _, _, anchor_label in dataloaders[\"test\"]:\n",
    "            anchor = anchor.to(device)\n",
    "            anchor_rebuild, anchor_out = model(anchor)\n",
    "            if scaler:\n",
    "                  anchor = scaler.inverse_transform(anchor.detach().numpy())\n",
    "                  anchor_rebuild = scaler.inverse_transform(anchor_rebuild.detach().numpy())\n",
    "            loss_mse_test = criterion(torch.tensor(anchor), torch.tensor(anchor_rebuild))\n",
    "            test_mse_loss.append(loss_mse_test.item())\n",
    "            arr_emb_test.append(anchor_out.cpu().detach().numpy())\n",
    "            arr_label_test.append(anchor_label.cpu().detach().numpy())\n",
    "\n",
    "      emb_test = np.array(arr_emb_test[:-1]).reshape(-1,2)\n",
    "      label_test = np.array(arr_label_test[:-1]).reshape(-1)\n",
    "      label_pred = clf.predict(X=emb_test)\n",
    "      acc = accuracy(label_test, label_pred)\n",
    "      silhoutte = silhouette_score(X=emb_test, labels=label_test)\n",
    "      return acc, silhoutte, test_mse_loss"
   ]
  },
  {
   "cell_type": "code",
   "execution_count": 14,
   "metadata": {},
   "outputs": [
    {
     "name": "stderr",
     "output_type": "stream",
     "text": [
      "/tmp/ipykernel_110830/275767823.py:29: UserWarning: To copy construct from a tensor, it is recommended to use sourceTensor.clone().detach() or sourceTensor.clone().detach().requires_grad_(True), rather than torch.tensor(sourceTensor).\n",
      "  loss_mse_test = criterion(torch.tensor(anchor), torch.tensor(anchor_rebuild))\n"
     ]
    }
   ],
   "source": [
    "acc, silhoutte, test_mse_loss = test(model, dataloaders, criterion, scaler=scaler, device=device)"
   ]
  },
  {
   "cell_type": "code",
   "execution_count": 15,
   "metadata": {},
   "outputs": [
    {
     "name": "stdout",
     "output_type": "stream",
     "text": [
      "Classifier accuracy: 0.8454861111111112\n",
      "Silhoutter score: -0.1105256974697113\n",
      "MSE: 2035.5596918808787\n"
     ]
    }
   ],
   "source": [
    "print(f\"Classifier accuracy: {acc}\\nSilhoutter score: {silhoutte}\\nMSE: {np.mean(test_mse_loss)}\")"
   ]
  },
  {
   "cell_type": "code",
   "execution_count": 16,
   "metadata": {},
   "outputs": [
    {
     "name": "stderr",
     "output_type": "stream",
     "text": [
      "  0%|          | 0/19 [00:00<?, ?it/s]"
     ]
    },
    {
     "name": "stderr",
     "output_type": "stream",
     "text": [
      "100%|██████████| 19/19 [00:00<00:00, 37.36it/s]\n"
     ]
    },
    {
     "data": {
      "image/png": "[encoded data removed]",
      "text/plain": [
       "<Figure size 800x600 with 1 Axes>"
      ]
     },
     "metadata": {},
     "output_type": "display_data"
    }
   ],
   "source": [
    "train_results = []\n",
    "labels = []\n",
    "\n",
    "model.eval()\n",
    "for anchor, _, _, anchor_laber in tqdm(dataloaders[\"test\"]):\n",
    "    _,emb = model(anchor.to(device))\n",
    "    train_results.append(emb.detach().numpy())\n",
    "    labels.append(anchor_laber)\n",
    "\n",
    "train_results = np.concatenate(train_results)\n",
    "labels = np.concatenate(labels)\n",
    "plt.figure(figsize=(8, 6), facecolor=\"azure\")\n",
    "for label in np.unique(labels):\n",
    "    tmp = train_results[labels==label]\n",
    "    plt.scatter(tmp[:, 0], tmp[:, 1])\n",
    "plt.title(\"Embeddings after encoding\");"
   ]
  },
  {
   "cell_type": "code",
   "execution_count": null,
   "metadata": {},
   "outputs": [],
   "source": []
  }
 ],
 "metadata": {
  "kernelspec": {
   "display_name": "Python 3.10.1 64-bit",
   "language": "python",
   "name": "python3"
  },
  "language_info": {
   "codemirror_mode": {
    "name": "ipython",
    "version": 3
   },
   "file_extension": ".py",
   "mimetype": "text/x-python",
   "name": "python",
   "nbconvert_exporter": "python",
   "pygments_lexer": "ipython3",
   "version": "3.11.4"
  },
  "orig_nbformat": 4,
  "vscode": {
   "interpreter": {
    "hash": "b2cc8517ddca7d05a992cd3fad7fc59aa9b07f60b5a0076d3921b996532f4af4"
   }
  }
 },
 "nbformat": 4,
 "nbformat_minor": 2
}
